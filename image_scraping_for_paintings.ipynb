{
  "nbformat": 4,
  "nbformat_minor": 0,
  "metadata": {
    "colab": {
      "provenance": []
    },
    "kernelspec": {
      "name": "python3",
      "display_name": "Python 3"
    },
    "language_info": {
      "name": "python"
    }
  },
  "cells": [
    {
      "cell_type": "code",
      "execution_count": null,
      "metadata": {
        "id": "2LwHR7NOmbck"
      },
      "outputs": [],
      "source": [
        "from icrawler.builtin import GoogleImageCrawler, BingImageCrawler, BaiduImageCrawler, FlickrImageCrawler, UrlListCrawler\n",
        "from icrawler import Crawler\n",
        "\n",
        "def scrape_google(art_style, num_images):\n",
        "    crawler = GoogleImageCrawler(storage={\"root_dir\": f\"Google/{art_style}\"})\n",
        "    crawler.crawl(\n",
        "        keyword=f\"{art_style} painting\",\n",
        "        max_num=num_images,\n",
        "        filters={\"license\": \"personal use\"},\n",
        "    )\n",
        "\n",
        "def scrape_bing(art_style, num_images):\n",
        "    crawler = BingImageCrawler(storage={\"root_dir\": f\"Bing/{art_style}\"})\n",
        "    crawler.crawl(\n",
        "        keyword=f\"{art_style} painting\",\n",
        "        max_num=num_images,\n",
        "        filters={\"license\": \"personal use\"},\n",
        "    )\n",
        "\n",
        "def scrape_baidu(art_style, num_images):\n",
        "    crawler = BaiduImageCrawler(storage={\"root_dir\": f\"Baidu/{art_style}\"})\n",
        "    crawler.crawl(\n",
        "        keyword=f\"{art_style} painting\",\n",
        "        max_num=num_images\n",
        "    )\n",
        "\n",
        "def scrape_flickr(art_style, num_images):\n",
        "    crawler = FlickrImageCrawler(storage={\"root_dir\": f\"Flickr/{art_style}\"}, apikey=\"YOUR_FLICKR_API_KEY\")\n",
        "    crawler.crawl(\n",
        "        keyword=f\"{art_style} painting\",\n",
        "        max_num=num_images\n",
        "    )\n",
        "\n",
        "def scrape_from_urllist(file_path, output_dir):\n",
        "    crawler = UrlListCrawler(storage={\"root_dir\": output_dir})\n",
        "    crawler.crawl(file_path=file_path)\n",
        "\n",
        "art_styles = [\"Gond\", \"Kalighat\", \"Kangra\", \"Kerala Mural\", \"Madhubani\", \"Mandana\", \"Pichwai\", \"Warli\"]\n",
        "num_images = 500\n",
        "\n",
        "for art_style in art_styles:\n",
        "    scrape_google(art_style, num_images)\n",
        "    scrape_bing(art_style, num_images)\n",
        "    scrape_baidu(art_style, num_images)\n",
        "    scrape_flickr(art_style, num_images)\n"
      ]
    },
    {
      "cell_type": "markdown",
      "source": [
        "# Note: This code does not fully automate image cleaning. For accurate image cleaning, manual review and filtering are recommended."
      ],
      "metadata": {
        "id": "RAksLDGmn-cQ"
      }
    },
    {
      "cell_type": "code",
      "source": [
        "import os\n",
        "from google.colab import drive\n",
        "from PIL import Image\n",
        "import google.generativeai as genai\n",
        "import io\n",
        "\n",
        "drive.mount('/content/drive')\n",
        "\n",
        "# Path to the folder containing scraped images\n",
        "image_folder = \"\"\n",
        "\n",
        "# Configure Google Gemini API\n",
        "GOOGLE_API_KEY = \"YOUR_GOOGLE_API_KEY\"\n",
        "genai.configure(api_key=GOOGLE_API_KEY)\n",
        "\n",
        "model = genai.GenerativeModel(\"gemini-1.5-flash\")\n",
        "\n",
        "evaluation_prompt = \"\"\"\n",
        "Analyze this image. If the image quality is poor, like too blurry or having poor lighting,\n",
        "or if the image content does not depict a traditional Indian painting (Gond, Kalighat, Kangra, Kerala Mural, Madhubani, Mandana, Pichwai, Warli),\n",
        "then say 'not ok' and describe the image briefly. If the image is a clear and authentic traditional painting, then just say 'ok'.\n",
        "\"\"\"\n",
        "\n",
        "def analyze_image(image_path):\n",
        "    try:\n",
        "        with open(image_path, \"rb\") as image_file:\n",
        "            image_data = image_file.read()\n",
        "\n",
        "        image = Image.open(io.BytesIO(image_data))\n",
        "\n",
        "        response = model.generate_content([evaluation_prompt, image])\n",
        "        text_response = response.text\n",
        "\n",
        "        return text_response\n",
        "    except Exception as e:\n",
        "        print(f\"Error analyzing {image_path}: {e}\")\n",
        "        return None\n",
        "\n",
        "results = []\n",
        "for filename in os.listdir(image_folder):\n",
        "    if filename.lower().endswith((\"png\", \"jpg\", \"jpeg\", \"bmp\", \"gif\")):\n",
        "        image_path = os.path.join(image_folder, filename)\n",
        "        print(f\"Analyzing {filename}...\")\n",
        "        evaluation = analyze_image(image_path)\n",
        "\n",
        "        if evaluation and \"not ok\" in evaluation.lower():\n",
        "            results.append((filename, evaluation))\n",
        "\n",
        "if results:\n",
        "    print(\"The following images do not meet the criteria:\")\n",
        "    for filename, evaluation in results:\n",
        "        print(f\"\\nImage: {filename}\")\n",
        "        print(f\"Evaluation: {evaluation}\")\n",
        "else:\n",
        "    print(\"All images meet the criteria!\")\n"
      ],
      "metadata": {
        "id": "ltV0pZW6mkLF"
      },
      "execution_count": null,
      "outputs": []
    }
  ]
}