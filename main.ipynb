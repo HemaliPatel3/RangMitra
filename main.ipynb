{
  "nbformat": 4,
  "nbformat_minor": 0,
  "metadata": {
    "colab": {
      "provenance": []
    },
    "kernelspec": {
      "name": "python3",
      "display_name": "Python 3"
    },
    "language_info": {
      "name": "python"
    }
  },
  "cells": [
    {
      "cell_type": "code",
      "execution_count": null,
      "metadata": {
        "id": "--GMNSYk0jyG"
      },
      "outputs": [],
      "source": [
        "import gradio as gr\n",
        "from diffusers import DiffusionPipeline\n",
        "import torch\n",
        "\n",
        "def generate_image(prompt, style):\n",
        "    model_paths = {\n",
        "        \"Gond\": \"/content/drive/MyDrive/Loras/Gond/output/Gond-10.safetensors\",\n",
        "        \"Kalighat\": \"/content/drive/MyDrive/Loras/Kalighat_Painting/output/Kalighat_Painting-10.safetensors\",\n",
        "        \"Kangra\": \"/content/drive/MyDrive/Loras/Kangra/output/Kangra-10.safetensors\",\n",
        "        \"Kerala Mural\": \"/content/drive/MyDrive/Loras/Kerala_Mural/output/Kerala_Mural-10.safetensors\",\n",
        "        \"Madhubani\": \"/content/drive/MyDrive/Loras/Madhubani/output/Madhubani-10.safetensors\",\n",
        "        \"Mandana\": \"/content/drive/MyDrive/Loras/Mandana/output/Mandana-10.safetensors\",\n",
        "        \"Pichwai\": \"/content/drive/MyDrive/Loras/Pichwai/output/Pichwai-10.safetensors\",\n",
        "        \"Warli\": \"/content/drive/MyDrive/Loras/Warli/output/Warli-10.safetensors\"\n",
        "    }\n",
        "\n",
        "    \"\"\"pipe = DiffusionPipeline.from_pretrained(\n",
        "        \"stable-diffusion-v1-5/stable-diffusion-v1-5\",\n",
        "        torch_dtype=torch.float16,\n",
        "        variant=\"fp16\",\n",
        "        use_safetensors=True\n",
        "    ).to(\"cuda\")\"\"\"\n",
        "    pipe.enable_model_cpu_offload()\n",
        "\n",
        "    pipe.load_lora_weights(model_paths[style])\n",
        "\n",
        "    image = pipe(prompt).images[0]\n",
        "    return image\n",
        "\n",
        "with gr.Blocks() as demo:\n",
        "    gr.Markdown(\"# Indian Traditional Art Generator\")\n",
        "    with gr.Tabs():\n",
        "        for style in [\"Gond\", \"Kalighat\", \"Kangra\", \"Kerala Mural\", \"Madhubani\", \"Mandana\", \"Pichwai\", \"Warli\"]:\n",
        "            with gr.TabItem(style):\n",
        "                with gr.Row():\n",
        "                    prompt = gr.Textbox(label=f\"Enter your prompt for {style} Painting\")\n",
        "                with gr.Row():\n",
        "                    btn = gr.Button(\"Generate Image\")\n",
        "                with gr.Row():\n",
        "                    output = gr.Image()\n",
        "                btn.click(generate_image, inputs=[prompt, gr.State(style)], outputs=[output])\n",
        "\n",
        "demo.launch()\n"
      ]
    }
  ]
}